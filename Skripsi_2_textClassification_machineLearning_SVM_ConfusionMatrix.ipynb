{
  "nbformat": 4,
  "nbformat_minor": 0,
  "metadata": {
    "colab": {
      "name": "Skripsi_2_textClassification_machineLearning_SVM_ConfusionMatrix.ipynb",
      "provenance": [],
      "collapsed_sections": [],
      "include_colab_link": true
    },
    "kernelspec": {
      "name": "python3",
      "display_name": "Python 3"
    },
    "language_info": {
      "name": "python"
    }
  },
  "cells": [
    {
      "cell_type": "markdown",
      "metadata": {
        "id": "view-in-github",
        "colab_type": "text"
      },
      "source": [
        "<a href=\"https://colab.research.google.com/github/ndhartanto/ndhartanto/blob/main/Skripsi_2_textClassification_machineLearning_SVM_ConfusionMatrix.ipynb\" target=\"_parent\"><img src=\"https://colab.research.google.com/assets/colab-badge.svg\" alt=\"Open In Colab\"/></a>"
      ]
    },
    {
      "cell_type": "code",
      "metadata": {
        "id": "NH__mf8kqkTt"
      },
      "source": [
        "import csv\n",
        "import spacy\n",
        "import string\n",
        "sp = spacy.load('en_core_web_sm')\n",
        "\n",
        "# for stopwords removal\n",
        "from spacy.lang.en import English\n",
        "# Load English tokenizer, tagger, parser, NER and word vectors\n",
        "nlp = English()\n",
        "from spacy.lang.en.stop_words import STOP_WORDS"
      ],
      "execution_count": null,
      "outputs": []
    },
    {
      "cell_type": "code",
      "metadata": {
        "id": "GYPfRCc0s7t8"
      },
      "source": [
        "csvFile = open('labeled_vader.csv', 'r')\n",
        "newFile = open('spacy_vader_LEMMA.csv', 'w')\n",
        "rows = csv.reader(csvFile)\n",
        "csvWriter = csv.writer(newFile)\n",
        "\n",
        "for row in rows:\n",
        "  # lower case\n",
        "  sentence = row[0].lower()\n",
        "\n",
        "  # remove punctuation if any\n",
        "  sentence = sentence.translate(str.maketrans('', '', string.punctuation))\n",
        "\n",
        "  sentence = sp(sentence)\n",
        "    \n",
        "  # LEMMATISATION\n",
        "  lemma_list = []\n",
        "  for word in sentence:\n",
        "     # CHECK\n",
        "     # print(word.text, word.lemma_)\n",
        "     lemma_list.append(word.lemma_)\n",
        "\n",
        "  no_stopwords =[] \n",
        "\n",
        "  for word in lemma_list:\n",
        "    lexeme = nlp.vocab[word]\n",
        "    if lexeme.is_stop == False:\n",
        "      no_stopwords.append(word) \n",
        "  print(lemma_list)\n",
        "  print(no_stopwords)   \n",
        "\n",
        "  row.append(lemma_list)\n",
        "  row.append(no_stopwords)\n",
        "  csvWriter.writerow(row)\n",
        "    \n"
      ],
      "execution_count": null,
      "outputs": []
    },
    {
      "cell_type": "code",
      "metadata": {
        "id": "1b0nwLvVCsfV",
        "colab": {
          "base_uri": "https://localhost:8080/",
          "height": 306
        },
        "outputId": "0594dafa-8035-4c35-91c8-58702903dda7"
      },
      "source": [
        "import pandas as pd\n",
        "\n",
        "df = pd.read_csv('spacy_vader_LEMMA.csv') #,sep='\\t')\n",
        "df_new = df.rename(columns={\"['text'].1\" : 'text_final'})\n",
        "df_new.head() #CHECK"
      ],
      "execution_count": null,
      "outputs": [
        {
          "output_type": "execute_result",
          "data": {
            "text/html": [
              "<div>\n",
              "<style scoped>\n",
              "    .dataframe tbody tr th:only-of-type {\n",
              "        vertical-align: middle;\n",
              "    }\n",
              "\n",
              "    .dataframe tbody tr th {\n",
              "        vertical-align: top;\n",
              "    }\n",
              "\n",
              "    .dataframe thead th {\n",
              "        text-align: right;\n",
              "    }\n",
              "</style>\n",
              "<table border=\"1\" class=\"dataframe\">\n",
              "  <thead>\n",
              "    <tr style=\"text-align: right;\">\n",
              "      <th></th>\n",
              "      <th>text</th>\n",
              "      <th>scores</th>\n",
              "      <th>compound</th>\n",
              "      <th>label</th>\n",
              "      <th>Unnamed: 4</th>\n",
              "      <th>Unnamed: 5</th>\n",
              "      <th>Unnamed: 6</th>\n",
              "      <th>['text']</th>\n",
              "      <th>text_final</th>\n",
              "    </tr>\n",
              "  </thead>\n",
              "  <tbody>\n",
              "    <tr>\n",
              "      <th>0</th>\n",
              "      <td>DAILY NEWS Indonesia Battery Corp Officially F...</td>\n",
              "      <td>{'neg': 0.094, 'neu': 0.804, 'pos': 0.101, 'co...</td>\n",
              "      <td>0.0516</td>\n",
              "      <td>POSITIF</td>\n",
              "      <td>NaN</td>\n",
              "      <td>NaN</td>\n",
              "      <td>NaN</td>\n",
              "      <td>['daily', 'news', 'indonesia', 'battery', 'cor...</td>\n",
              "      <td>['daily', 'news', 'indonesia', 'battery', 'cor...</td>\n",
              "    </tr>\n",
              "    <tr>\n",
              "      <th>1</th>\n",
              "      <td>MALACA STRAIT The Malacca Strait is the second...</td>\n",
              "      <td>{'neg': 0.0, 'neu': 1.0, 'pos': 0.0, 'compound...</td>\n",
              "      <td>0.0000</td>\n",
              "      <td>NETRAL</td>\n",
              "      <td>NaN</td>\n",
              "      <td>NEGATIF</td>\n",
              "      <td>339.0</td>\n",
              "      <td>['malaca', 'strait', 'the', 'malacca', 'strait...</td>\n",
              "      <td>['malaca', 'strait', 'malacca', 'strait', 'sec...</td>\n",
              "    </tr>\n",
              "    <tr>\n",
              "      <th>2</th>\n",
              "      <td>Trade in Placenta for Drugs in China Continues...</td>\n",
              "      <td>{'neg': 0.0, 'neu': 0.827, 'pos': 0.173, 'comp...</td>\n",
              "      <td>0.4449</td>\n",
              "      <td>POSITIF</td>\n",
              "      <td>NaN</td>\n",
              "      <td>NETRAL</td>\n",
              "      <td>150.0</td>\n",
              "      <td>['trade', 'in', 'placenta', 'for', 'drug', 'in...</td>\n",
              "      <td>['trade', 'placenta', 'drug', 'china', 'contin...</td>\n",
              "    </tr>\n",
              "    <tr>\n",
              "      <th>3</th>\n",
              "      <td>Garuda's Legacy Book Twisted by Dragons The Im...</td>\n",
              "      <td>{'neg': 0.0, 'neu': 0.74, 'pos': 0.26, 'compou...</td>\n",
              "      <td>0.8591</td>\n",
              "      <td>POSITIF</td>\n",
              "      <td>NaN</td>\n",
              "      <td>POSITIF</td>\n",
              "      <td>405.0</td>\n",
              "      <td>['garudas', 'legacy', 'book', 'twist', 'by', '...</td>\n",
              "      <td>['garudas', 'legacy', 'book', 'twist', 'dragon...</td>\n",
              "    </tr>\n",
              "    <tr>\n",
              "      <th>4</th>\n",
              "      <td>So whether all this time this virus is closely...</td>\n",
              "      <td>{'neg': 0.0, 'neu': 0.901, 'pos': 0.099, 'comp...</td>\n",
              "      <td>0.3182</td>\n",
              "      <td>POSITIF</td>\n",
              "      <td>NaN</td>\n",
              "      <td>NaN</td>\n",
              "      <td>NaN</td>\n",
              "      <td>['so', 'whether', 'all', 'this', 'time', 'this...</td>\n",
              "      <td>['time', 'virus', 'closely', 'relate', 'global...</td>\n",
              "    </tr>\n",
              "  </tbody>\n",
              "</table>\n",
              "</div>"
            ],
            "text/plain": [
              "                                                text  ...                                         text_final\n",
              "0  DAILY NEWS Indonesia Battery Corp Officially F...  ...  ['daily', 'news', 'indonesia', 'battery', 'cor...\n",
              "1  MALACA STRAIT The Malacca Strait is the second...  ...  ['malaca', 'strait', 'malacca', 'strait', 'sec...\n",
              "2  Trade in Placenta for Drugs in China Continues...  ...  ['trade', 'placenta', 'drug', 'china', 'contin...\n",
              "3  Garuda's Legacy Book Twisted by Dragons The Im...  ...  ['garudas', 'legacy', 'book', 'twist', 'dragon...\n",
              "4  So whether all this time this virus is closely...  ...  ['time', 'virus', 'closely', 'relate', 'global...\n",
              "\n",
              "[5 rows x 9 columns]"
            ]
          },
          "metadata": {
            "tags": []
          },
          "execution_count": 4
        }
      ]
    },
    {
      "cell_type": "code",
      "metadata": {
        "id": "NDgBid9mnPhb",
        "colab": {
          "base_uri": "https://localhost:8080/",
          "height": 797
        },
        "outputId": "faa64f7d-5b19-4f49-8aca-18aa61030b34"
      },
      "source": [
        "import numpy as np\n",
        "from sklearn.preprocessing import LabelEncoder\n",
        "from sklearn.feature_extraction.text import TfidfVectorizer\n",
        "from sklearn import model_selection, naive_bayes, svm\n",
        "from sklearn.metrics import accuracy_score\n",
        "\n",
        "from sklearn.metrics import confusion_matrix\n",
        "import seaborn as sns\n",
        "import matplotlib.pyplot as plt \n",
        "\n",
        "from sklearn.metrics import precision_recall_fscore_support as score\n",
        "\n",
        "# HOLD-OUT - Dividing testing and training data\n",
        "Train_X, Test_X, Train_Y, Test_Y = model_selection.train_test_split(df_new['text_final'],df_new['label'],test_size=0.3)\n",
        "\n",
        "# Label encode - transform Categorical data of string (negatif, netral, positif) into numerical values (0,1,2)\n",
        "Encoder = LabelEncoder()\n",
        "Train_Y = Encoder.fit_transform(Train_Y)\n",
        "Test_Y = Encoder.fit_transform(Test_Y)\n",
        "\n",
        "# TF-IDF Vectorizer \n",
        "Tfidf_vect = TfidfVectorizer(max_features=5000)\n",
        "Tfidf_vect.fit(df_new['text_final'])\n",
        "\n",
        "Train_X_Tfidf = Tfidf_vect.transform(Train_X)\n",
        "Test_X_Tfidf = Tfidf_vect.transform(Test_X)\n",
        "\n",
        "# CHECKING\n",
        "# print(Tfidf_vect.vocabulary_)\n",
        "# print(Train_X_Tfidf)\n",
        "\n",
        "# NAIVE BAYES & SVM\n",
        "\n",
        "# Classifier - Algorithm - Naive Bayes\n",
        "\n",
        "# fit the training dataset on the classifier\n",
        "Naive = naive_bayes.MultinomialNB()\n",
        "Naive.fit(Train_X_Tfidf,Train_Y)\n",
        "\n",
        "# predict the labels on validation dataset\n",
        "predictions_NB = Naive.predict(Test_X_Tfidf)\n",
        "\n",
        "# Classifier - Algorithm - SVM\n",
        "\n",
        "# fit the training dataset on the classifier\n",
        "SVM = svm.SVC(C=1.0, kernel='linear', degree=3, gamma='auto')\n",
        "SVM.fit(Train_X_Tfidf,Train_Y)\n",
        "\n",
        "# predict the labels on validation dataset\n",
        "predictions_SVM = SVM.predict(Test_X_Tfidf)\n",
        "\n",
        "conf_matrix = confusion_matrix(Test_Y, predictions_SVM)\n",
        "class_label = [\"NEGATIF\", \"NETRAL\", \"POSITIF\"]\n",
        "test = pd.DataFrame(conf_matrix, index = class_label, columns = class_label)\n",
        "sns.heatmap(test, annot = True, fmt = \"d\")\n",
        "plt.title(\"Confusion Matrix SVM\")\n",
        "plt.xlabel(\"Predicted Label\")\n",
        "plt.ylabel(\"True Label\")\n",
        "plt.show()\n",
        "\n",
        "# SVM RESULT\n",
        "print(\"SVM RESULT\")\n",
        "print(\"Accuracy Score =\",accuracy_score(predictions_SVM, Test_Y))\n",
        "precision, recall, fscore, support = score(Test_Y, predictions_SVM, average='weighted')\n",
        "print(\"Precision =\", precision)\n",
        "print(\"Recall =\", recall)\n",
        "print(\"F-score =\", fscore)\n",
        "\n",
        "conf_matrix = confusion_matrix(Test_Y, predictions_NB)\n",
        "class_label = [\"NEGATIF\", \"NETRAL\", \"POSITIF\"]\n",
        "test = pd.DataFrame(conf_matrix, index = class_label, columns = class_label)\n",
        "sns.heatmap(test, annot = True, fmt = \"d\")\n",
        "plt.title(\"Confusion Matrix Naive Bayes\")\n",
        "plt.xlabel(\"Predicted Label\")\n",
        "plt.ylabel(\"True Label\")\n",
        "plt.show()\n",
        "\n",
        "# NAIVE BAYES RESULT\n",
        "print(\"NAIVE BAYES RESULT\")\n",
        "print(\"Accuracy Score =\",accuracy_score(predictions_NB, Test_Y))\n",
        "precision, recall, fscore, support = score(Test_Y, predictions_NB, average='weighted')\n",
        "print(\"Precision =\", precision)\n",
        "print(\"Recall =\", recall)\n",
        "print(\"F-score =\", fscore)\n"
      ],
      "execution_count": null,
      "outputs": [
        {
          "output_type": "display_data",
          "data": {
            "image/png": "[encoded data removed]",
            "text/plain": [
              "<Figure size 432x288 with 2 Axes>"
            ]
          },
          "metadata": {
            "tags": [],
            "needs_background": "light"
          }
        },
        {
          "output_type": "stream",
          "text": [
            "SVM RESULT\n",
            "Accuracy Score = 0.6954887218045113\n",
            "Precision = 0.6922278414289693\n",
            "Recall = 0.6954887218045113\n",
            "F-score = 0.6816478265253565\n"
          ],
          "name": "stdout"
        },
        {
          "output_type": "display_data",
          "data": {
            "image/png": "[encoded data removed]",
            "text/plain": [
              "<Figure size 432x288 with 2 Axes>"
            ]
          },
          "metadata": {
            "tags": [],
            "needs_background": "light"
          }
        },
        {
          "output_type": "stream",
          "text": [
            "NAIVE BAYES RESULT\n",
            "Accuracy Score = 0.650375939849624\n",
            "Precision = 0.587156845602378\n",
            "Recall = 0.650375939849624\n",
            "F-score = 0.6028189285093922\n"
          ],
          "name": "stdout"
        },
        {
          "output_type": "stream",
          "text": [
            "/usr/local/lib/python3.7/dist-packages/sklearn/metrics/_classification.py:1272: UndefinedMetricWarning: Precision and F-score are ill-defined and being set to 0.0 in labels with no predicted samples. Use `zero_division` parameter to control this behavior.\n",
            "  _warn_prf(average, modifier, msg_start, len(result))\n"
          ],
          "name": "stderr"
        }
      ]
    }
  ]
}